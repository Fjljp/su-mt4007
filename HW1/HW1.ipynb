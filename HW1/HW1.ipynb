{
 "cells": [
  {
   "cell_type": "markdown",
   "id": "f7dd908f-26c1-4dca-ab24-c1a90d8be3a9",
   "metadata": {},
   "source": [
    "# Homework 1"
   ]
  },
  {
   "cell_type": "markdown",
   "id": "08861cc5-81a4-4e2f-bc7e-bd34c6c97470",
   "metadata": {},
   "source": [
    "## Description about me\n",
    "I am a student pursuing my master in statistics, and I got a previous bachelors degree in financial math at Västerås."
   ]
  },
  {
   "cell_type": "markdown",
   "id": "64dcb2d3-c4f8-4ffb-b080-8fee66c8e35d",
   "metadata": {},
   "source": [
    "## Previous experience in data science\n",
    "My previous experience with data science includes introductory course in C-programming, \n",
    "statistical/mathematical modelling in MATLAB & R and some self taught experimentation in Python\n",
    "for my degree project."
   ]
  }
 ],
 "metadata": {
  "kernelspec": {
   "display_name": "Python 3 (ipykernel)",
   "language": "python",
   "name": "python3"
  },
  "language_info": {
   "codemirror_mode": {
    "name": "ipython",
    "version": 3
   },
   "file_extension": ".py",
   "mimetype": "text/x-python",
   "name": "python",
   "nbconvert_exporter": "python",
   "pygments_lexer": "ipython3",
   "version": "3.11.1"
  }
 },
 "nbformat": 4,
 "nbformat_minor": 5
}
